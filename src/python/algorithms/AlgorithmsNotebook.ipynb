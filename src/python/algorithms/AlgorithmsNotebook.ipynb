{
 "cells": [
  {
   "cell_type": "markdown",
   "metadata": {},
   "source": [
    "# BFS algorithm\n",
    "If we use BFS we know that the path that we find will be the shortest path because of how it searches (wide, going out layer by layer)."
   ]
  },
  {
   "cell_type": "markdown",
   "metadata": {},
   "source": [
    "# DFS algorithm\n",
    "Breadth-first search (BFS) technique is a systematic search strategy which begins at an initial node and from the initial node search actions are applied downward on a tree structure in a breadth-wise order. It makes a locally-optimal choice in the hope that this choice will lead to a globally-optimal solution.\n",
    "\n",
    "**Original map**\n",
    "* 0: free\n",
    "* 1: wall or obstacle\n",
    "\n",
    "**Our states**\n",
    "* 2: visited point\n",
    "* 3: start\n",
    "* 4: goal\n",
    "\n",
    "**A nivel grafo (nosotros):**\n",
    "* -2: parentId start node\n",
    "* -1: parentId goal node when not solved yet"
   ]
  },
  {
   "cell_type": "markdown",
   "metadata": {},
   "source": [
    "# PEDIMOS"
   ]
  },
  {
   "cell_type": "code",
   "execution_count": 1,
   "metadata": {},
   "outputs": [
    {
     "name": "stdout",
     "output_type": "stream",
     "text": [
      "What map would you like to test? (Number from 1 to 11):0\n",
      "   Posible options: [1, 2, 3, 4, 5, 6, 7, 8, 9, 10, 11] efdwd\n",
      "   Posible options: [1, 2, 3, 4, 5, 6, 7, 8, 9, 10, 11]  \n",
      "   Posible options: [1, 2, 3, 4, 5, 6, 7, 8, 9, 10, 11] 1\n",
      "THIS IS THE MATRIX YOU HAVE SELECTED.\n",
      "To locate the start and goal point REMEMBER that starting from the left upper 0,positive x goes down and positive y goes right.\n",
      "['1', '1', '1', '1', '1', '1', '1', '1']\n",
      "['1', '0', '0', '0', '0', '0', '0', '1']\n",
      "['1', '0', '0', '0', '0', '0', '0', '1']\n",
      "['1', '0', '0', '0', '0', '0', '0', '1']\n",
      "['1', '1', '1', '1', '0', '0', '0', '1']\n",
      "['1', '1', '1', '1', '0', '0', '0', '1']\n",
      "['1', '0', '0', '0', '0', '0', '0', '1']\n",
      "['1', '0', '0', '0', '0', '0', '0', '1']\n",
      "['1', '0', '0', '0', '0', '0', '0', '1']\n",
      "['1', '1', '1', '1', '1', '1', '1', '1']\n",
      "Intro START_X coordinate:dcwcewd\n",
      "   Posible options: [1, 2, 3, 4, 5, 6, 7, 8] 0\n",
      "   Posible options: [1, 2, 3, 4, 5, 6, 7, 8] 1\n",
      "Intro START_Y  coordinate:aa\n",
      "   Posible options: [1, 2, 3, 4, 5, 6] sfwf\n",
      "   Posible options: [1, 2, 3, 4, 5, 6]     \n",
      "   Posible options: [1, 2, 3, 4, 5, 6] ç\n",
      "   Posible options: [1, 2, 3, 4, 5, 6] 1\n",
      "Intro END_X coordinate:wced\n",
      "   Posible options: [1, 2, 3, 4, 5, 6, 7, 8] 0\n",
      "   Posible options: [1, 2, 3, 4, 5, 6, 7, 8] 1\n",
      "Intro  END_Y coordinate:csdc\n",
      "   Posible options: [1, 2, 3, 4, 5, 6] ''\n",
      "   Posible options: [1, 2, 3, 4, 5, 6]  \n",
      "   Posible options: [1, 2, 3, 4, 5, 6] 5\n",
      "--------------------------------------------------------------\n",
      "\n",
      "\n",
      "SELECTED CONFIGURATION:\n",
      "~~~~~~~~~~~~~~~~~~~~~~~\n",
      "Remember!\n",
      " x = down is +\n",
      " y = right is +\n",
      " id = unique node id\n",
      " parentId = id of the node that found the current node\n",
      "\n",
      "['1', '1', '1', '1', '1', '1', '1', '1']\n",
      "['1', '3', '0', '0', '0', '4', '0', '1']\n",
      "['1', '0', '0', '0', '0', '0', '0', '1']\n",
      "['1', '0', '0', '0', '0', '0', '0', '1']\n",
      "['1', '1', '1', '1', '0', '0', '0', '1']\n",
      "['1', '1', '1', '1', '0', '0', '0', '1']\n",
      "['1', '0', '0', '0', '0', '0', '0', '1']\n",
      "['1', '0', '0', '0', '0', '0', '0', '1']\n",
      "['1', '0', '0', '0', '0', '0', '0', '1']\n",
      "['1', '1', '1', '1', '1', '1', '1', '1']\n",
      "Number of nodes: 1\n",
      "Node info: x = 1 | y = 1 | id = 0 | parentId = -2\n",
      "______________________________________________\n",
      "right: mark visited\n",
      "['1', '1', '1', '1', '1', '1', '1', '1']\n",
      "['1', '3', '2', '0', '0', '4', '0', '1']\n",
      "['1', '0', '0', '0', '0', '0', '0', '1']\n",
      "['1', '0', '0', '0', '0', '0', '0', '1']\n",
      "['1', '1', '1', '1', '0', '0', '0', '1']\n",
      "['1', '1', '1', '1', '0', '0', '0', '1']\n",
      "['1', '0', '0', '0', '0', '0', '0', '1']\n",
      "['1', '0', '0', '0', '0', '0', '0', '1']\n",
      "['1', '0', '0', '0', '0', '0', '0', '1']\n",
      "['1', '1', '1', '1', '1', '1', '1', '1']\n",
      "Number of nodes: 2\n",
      "Node info: x = 1 | y = 2 | id = 1 | parentId = 0\n",
      "______________________________________________\n",
      "right: mark visited\n",
      "['1', '1', '1', '1', '1', '1', '1', '1']\n",
      "['1', '3', '2', '2', '0', '4', '0', '1']\n",
      "['1', '0', '0', '0', '0', '0', '0', '1']\n",
      "['1', '0', '0', '0', '0', '0', '0', '1']\n",
      "['1', '1', '1', '1', '0', '0', '0', '1']\n",
      "['1', '1', '1', '1', '0', '0', '0', '1']\n",
      "['1', '0', '0', '0', '0', '0', '0', '1']\n",
      "['1', '0', '0', '0', '0', '0', '0', '1']\n",
      "['1', '0', '0', '0', '0', '0', '0', '1']\n",
      "['1', '1', '1', '1', '1', '1', '1', '1']\n",
      "Number of nodes: 3\n",
      "Node info: x = 1 | y = 3 | id = 2 | parentId = 1\n",
      "______________________________________________\n",
      "right: mark visited\n",
      "['1', '1', '1', '1', '1', '1', '1', '1']\n",
      "['1', '3', '2', '2', '2', '4', '0', '1']\n",
      "['1', '0', '0', '0', '0', '0', '0', '1']\n",
      "['1', '0', '0', '0', '0', '0', '0', '1']\n",
      "['1', '1', '1', '1', '0', '0', '0', '1']\n",
      "['1', '1', '1', '1', '0', '0', '0', '1']\n",
      "['1', '0', '0', '0', '0', '0', '0', '1']\n",
      "['1', '0', '0', '0', '0', '0', '0', '1']\n",
      "['1', '0', '0', '0', '0', '0', '0', '1']\n",
      "['1', '1', '1', '1', '1', '1', '1', '1']\n",
      "Number of nodes: 4\n",
      "Node info: x = 1 | y = 4 | id = 3 | parentId = 2\n",
      "______________________________________________\n",
      "RIGHT & GOAL!\n",
      "\n",
      "\n",
      "%%%%%%%%%%%%%%%%%%  FOUND PATH  %%%%%%%%%%%%%%%%%%%%%%%\n",
      "DFS path found, it is not the shortest path\n",
      "  * Time of execution : 6.9828033447265625 ms\n",
      "  * Number of unique nodes in list nodes =  4 \n",
      "\n",
      "Node info: x = 1 | y = 4 | id = 3 | parentId = 2\n",
      "______________________________________________\n",
      "Node info: x = 1 | y = 3 | id = 2 | parentId = 1\n",
      "______________________________________________\n",
      "Node info: x = 1 | y = 2 | id = 1 | parentId = 0\n",
      "______________________________________________\n",
      "Node info: x = 1 | y = 1 | id = 0 | parentId = -2\n",
      "______________________________________________\n",
      "%%%%%%%%%%%%%%%%%%%%%%%%%%%%%%%%%%%%%%%%%%%%%%%%%\n"
     ]
    }
   ],
   "source": [
    "import time\n",
    "from functions import *\n",
    "\n",
    "# First we choose a map (functions file)\n",
    "MAP_PATH = selectMap()\n",
    "\n",
    "# List nodes: contains the graph nodes\n",
    "nodes = []\n",
    "\n",
    "# 2D list containing the characters of the map (our drawing)\n",
    "charMap = [] \n",
    "\n",
    "# Map creation from csv file\n",
    "with open(MAP_PATH) as f:\n",
    "    line = f.readline()\n",
    "    while line:\n",
    "        charLine = line.strip().split(',')\n",
    "        charMap.append(charLine)\n",
    "        line = f.readline()\n",
    "        \n",
    "# Let's ask for the start an goal points\n",
    "START_X,START_Y,END_X,END_Y = inputStartEnd(charMap) # in functions folder\n",
    "\n",
    "# Let's make sure that those coordinates are valid (free space)\n",
    "checkPoints(charMap,START_X,START_Y,END_X,END_Y)     # in functions folder\n",
    "    \n",
    "# Add the references to the start and goal points once they are valid\n",
    "charMap[START_X][START_Y] = '3'\n",
    "charMap[END_X][END_Y] = '4'\n",
    "\n",
    "# Now we can create the first node: parentId = -2 since it's start node\n",
    "init = Node(START_X, START_Y, 0, -2) # Node class object defined in functions.py\n",
    "\n",
    "# Add the first node (start node) to the list nodes\n",
    "nodes.append(init)\n",
    "\n",
    "\n",
    "# Function that shows the map on terminal\n",
    "def dumpMap():\n",
    "    for line in charMap:\n",
    "        print(line)\n",
    "\n",
    "    \n",
    "initialCheck()      # First we show some info \n",
    "dumpMap()           # Then we show the initial map\n",
    "####################################     LET THE ALGORITHM BEGIN     ####################################  \n",
    "start = time.time() # Start measuring the time\n",
    "done = False        # classic condition for while loop\n",
    "goalParentId = -1   # parentId of provisional goal point when not solved\n",
    "\n",
    "# Priority is: up, right, down, left\n",
    "while not done:\n",
    "        print(\"Number of nodes: \"+str(len(nodes))) # Print number of visited nodes\n",
    "        nodes[-1].dump()                           # Print info of the last appended node\n",
    "        \n",
    "        # UP\n",
    "        tmpX = nodes[-1].x - 1\n",
    "        tmpY = nodes[-1].y\n",
    "        if( charMap[tmpX][tmpY] == '4' ): # If habemus goal\n",
    "            print(\"UP & GOAL!\")\n",
    "            goalParentId = nodes[-1].myId # Change goalParentId. It was -1 but now we want it to be the id of the node\n",
    "            done = True\n",
    "            break\n",
    "        elif ( charMap[tmpX][tmpY] == '0' ):# If we found a free non-visited node\n",
    "            print(\"up:    mark visited\")\n",
    "            # At the end of the while loop we will understand why we use len(set(nodes) instead if len(nodes)\n",
    "            newNode = Node(tmpX, tmpY, len(set(nodes)), nodes[-1].myId) # Let's save the new node we found and mark it as visited     \n",
    "            charMap[tmpX][tmpY] = '2'\n",
    "            nodes.append(newNode)\n",
    "            dumpMap() # See map\n",
    "            continue\n",
    "        # Same logic for right, down and left\n",
    "                    \n",
    "        #RIGHT \n",
    "        tmpX = nodes[-1].x\n",
    "        tmpY = nodes[-1].y + 1\n",
    "        if( charMap[tmpX][tmpY] == '4' ):\n",
    "            print(\"RIGHT & GOAL!\")\n",
    "            goalParentId = nodes[-1].myId \n",
    "            done = True\n",
    "            break\n",
    "        elif ( charMap[tmpX][tmpY] == '0' ):\n",
    "            print(\"right: mark visited\")\n",
    "            newNode = Node(tmpX, tmpY, len(set(nodes)), nodes[-1].myId)\n",
    "            charMap[tmpX][tmpY] = '2'\n",
    "            nodes.append(newNode)\n",
    "            dumpMap() # See map\n",
    "            continue\n",
    "\n",
    "        # DOWN\n",
    "        tmpX = nodes[-1].x + 1\n",
    "        tmpY = nodes[-1].y\n",
    "        if( charMap[tmpX][tmpY] == '4' ):\n",
    "            print(\"DOWN & GOAL!\")\n",
    "            goalParentId = nodes[-1].myId\n",
    "            done = True\n",
    "            break \n",
    "        elif ( charMap[tmpX][tmpY] == '0' ):\n",
    "            print(\"down:  mark visited\")\n",
    "            newNode = Node(tmpX, tmpY, len(set(nodes)), nodes[-1].myId) # tempX e Y son valores temporales con el incremento sumado\n",
    "            charMap[tmpX][tmpY] = '2'\n",
    "            nodes.append(newNode)\n",
    "            dumpMap() # See mapv\n",
    "            continue\n",
    "\n",
    "        # LEFT\n",
    "        tmpX = nodes[-1].x\n",
    "        tmpY = nodes[-1].y - 1\n",
    "        if( charMap[tmpX][tmpY] == '4' ):\n",
    "            print(\"LEFT & GOAL!\")\n",
    "            goalParentId = nodes[-1].myId\n",
    "            done = True\n",
    "            break\n",
    "        elif ( charMap[tmpX][tmpY] == '0' ):\n",
    "            print(\"left:  mark visited\")\n",
    "            newNode = Node(tmpX, tmpY, len(set(nodes)), nodes[-1].myId)\n",
    "            charMap[tmpX][tmpY] = '2'\n",
    "            nodes.append(newNode)\n",
    "            dumpMap() # See map\n",
    "            continue\n",
    "            \n",
    "        # When the Cell has exhausted its posibilities and can't go to any direction because wall or visited\n",
    "        # We search for the parent node of our last node.\n",
    "        for node in nodes: # We check every node in nodes\n",
    "            if nodes[-1].parentId == node.myId: # If we find a node with an id that tells me \"Hey! I am the parent of the current node!\"\n",
    "                print(\"Going backwards to...\")\n",
    "                nodes.append(node)   # Then we add the that node to the end of the list\n",
    "        # This will cause not all the nodes in the list nodes will be unique. \n",
    "        # That's why when we use len(set(nodes)) instead of len(nodes). That way the ids are consecutive.\n",
    "        \n",
    "        \n",
    "end = time.time()# Finish measuring the time. We have already found the goal\n",
    "\n",
    "\n",
    "\n",
    "print(\"\\n\\n%%%%%%%%%%%%%%%%%%  FOUND PATH  %%%%%%%%%%%%%%%%%%%%%%%\")\n",
    "print(\"DFS path found, it is not the shortest path\")\n",
    "print(\"  * Time of execution :\", (end-start)*1000, \"ms\");\n",
    "print(\"  * Number of unique nodes in list nodes = \" ,len(set(nodes)) ,\"\\n\") # By using set, we just select the unique nodes.\n",
    "ok = False\n",
    "while not ok:\n",
    "    for node in nodes:\n",
    "        if( node.myId == goalParentId ):\n",
    "            node.dump()\n",
    "            goalParentId = node.parentId\n",
    "            if( goalParentId == -2):\n",
    "                print(\"%%%%%%%%%%%%%%%%%%%%%%%%%%%%%%%%%%%%%%%%%%%%%%%%%\")\n",
    "                ok = True"
   ]
  },
  {
   "cell_type": "markdown",
   "metadata": {},
   "source": [
    "### START_X = input(\"Intro START_X coordinate:\")\n",
    "type(START_X)"
   ]
  },
  {
   "cell_type": "code",
   "execution_count": 25,
   "metadata": {},
   "outputs": [
    {
     "data": {
      "text/plain": [
       "False"
      ]
     },
     "execution_count": 25,
     "metadata": {},
     "output_type": "execute_result"
    }
   ],
   "source": [
    "[START_X,START_Y] == [END_X,END_Y]"
   ]
  },
  {
   "cell_type": "code",
   "execution_count": 10,
   "metadata": {},
   "outputs": [
    {
     "name": "stdout",
     "output_type": "stream",
     "text": [
      "What map would you like to test? (Number from 1 to 11):1\n"
     ]
    }
   ],
   "source": [
    "mapNum = input(\"What map would you like to test? (Number from 1 to 11):\")  "
   ]
  },
  {
   "cell_type": "code",
   "execution_count": 11,
   "metadata": {},
   "outputs": [
    {
     "data": {
      "text/plain": [
       "'1'"
      ]
     },
     "execution_count": 11,
     "metadata": {},
     "output_type": "execute_result"
    }
   ],
   "source": [
    "mapNum"
   ]
  },
  {
   "cell_type": "code",
   "execution_count": 12,
   "metadata": {},
   "outputs": [],
   "source": [
    "MAP_PATH = f\"../../../map{mapNum}/map{mapNum}.csv\""
   ]
  },
  {
   "cell_type": "code",
   "execution_count": 24,
   "metadata": {},
   "outputs": [],
   "source": [
    "def selectMap():\n",
    "    mapNum = input(\"What map would you like to test? (Number from 1 to 11):\")  \n",
    "    while (mapNum.isnumeric() == False) or (float(mapNum) not in list(range(1,12))):\n",
    "        mapNum = input(f\"   Posible options: {list(range(1,12))} \")\n",
    "    \n",
    "    return f\"../../../map{int(mapNum)}/map{int(mapNum)}.csv\""
   ]
  },
  {
   "cell_type": "code",
   "execution_count": 22,
   "metadata": {},
   "outputs": [
    {
     "name": "stdout",
     "output_type": "stream",
     "text": [
      "What map would you like to test? (Number from 1 to 11):a\n",
      "   Posible options: [1, 2, 3, 4, 5, 6, 7, 8, 9, 10, 11] d\n",
      "   Posible options: [1, 2, 3, 4, 5, 6, 7, 8, 9, 10, 11] 1\n"
     ]
    }
   ],
   "source": [
    "MAP_PATH = selectMap()"
   ]
  },
  {
   "cell_type": "code",
   "execution_count": 20,
   "metadata": {},
   "outputs": [
    {
     "data": {
      "text/plain": [
       "'../../../map1/map1.csv'"
      ]
     },
     "execution_count": 20,
     "metadata": {},
     "output_type": "execute_result"
    }
   ],
   "source": [
    "MAP_PATH"
   ]
  },
  {
   "cell_type": "code",
   "execution_count": null,
   "metadata": {},
   "outputs": [],
   "source": []
  }
 ],
 "metadata": {
  "kernelspec": {
   "display_name": "Python 3",
   "language": "python",
   "name": "python3"
  },
  "language_info": {
   "codemirror_mode": {
    "name": "ipython",
    "version": 3
   },
   "file_extension": ".py",
   "mimetype": "text/x-python",
   "name": "python",
   "nbconvert_exporter": "python",
   "pygments_lexer": "ipython3",
   "version": "3.8.6"
  }
 },
 "nbformat": 4,
 "nbformat_minor": 4
}
