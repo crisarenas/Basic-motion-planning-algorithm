{
 "cells": [
  {
   "cell_type": "markdown",
   "metadata": {},
   "source": [
    "## BFS to Greedy algorithm\n",
    "\n",
    "* El objetivo es adaptar BFS a algo más greedy. \n",
    "    - **Greedy (corto plazo)**: always makes the choice that seems to be the best at that moment. This means that it makes a locally-optimal choice in the hope that this choice will lead to a globally-optimal solution.\n",
    "    - **BFS**: examina todos los nodos  para buscar una solución. El algoritmo no usa ninguna estrategia heurística. Va por capas simultaneamente.\n",
    "    - **DFS**: va por ramas, termina una rama y empieza otra.\n",
    "* Los mapas son sin costes.\n",
    "* En el github del primer enlace está lo que hay en el zip.\n",
    "* Lo interesante de los mapas está en los csv. Los 0 son huecos y los 1 son paredes u obstaculos.\n",
    "* En el readme de cada una de las carpetas de los mapas es donde pone las coordenadas de inicio y fin.\n",
    "\n",
    "\n",
    "Los ejes son x positivo hacia abajo, y positivo a la derecha, z positivo mi.\n",
    "    xy---->\n",
    "    |\n",
    "    |\n",
    "    \n",
    "En formato matricial x se corresponde con las lineas e y con las columnas.\n",
    "\n",
    "* El código está en src.\n",
    "* Los comentarios están en la branch comments de github del profe.\n",
    "\n",
    "\n",
    "__________________________________________\n",
    "\n",
    "\n",
    "## Hay que entregar un readme en el que expliquemos que hemos hecho brevemente.\n",
    "- Subir codigo fuente\n",
    "- Un readme que contenga una linea por extra.\n",
    "    \n"
   ]
  },
  {
   "cell_type": "code",
   "execution_count": null,
   "metadata": {},
   "outputs": [],
   "source": []
  },
  {
   "cell_type": "code",
   "execution_count": null,
   "metadata": {},
   "outputs": [],
   "source": []
  },
  {
   "cell_type": "code",
   "execution_count": null,
   "metadata": {},
   "outputs": [],
   "source": []
  },
  {
   "cell_type": "code",
   "execution_count": null,
   "metadata": {},
   "outputs": [],
   "source": []
  },
  {
   "cell_type": "code",
   "execution_count": null,
   "metadata": {},
   "outputs": [],
   "source": []
  },
  {
   "cell_type": "code",
   "execution_count": null,
   "metadata": {},
   "outputs": [],
   "source": []
  }
 ],
 "metadata": {
  "kernelspec": {
   "display_name": "Python 3",
   "language": "python",
   "name": "python3"
  },
  "language_info": {
   "codemirror_mode": {
    "name": "ipython",
    "version": 3
   },
   "file_extension": ".py",
   "mimetype": "text/x-python",
   "name": "python",
   "nbconvert_exporter": "python",
   "pygments_lexer": "ipython3",
   "version": "3.8.6"
  }
 },
 "nbformat": 4,
 "nbformat_minor": 4
}
